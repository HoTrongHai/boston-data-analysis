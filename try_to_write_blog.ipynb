{
 "cells": [
  {
   "cell_type": "code",
   "execution_count": 52,
   "outputs": [
    {
     "data": {
      "text/plain": "   listing_id        date available price\n0    12147973  2017-09-05         f   NaN\n1    12147973  2017-09-04         f   NaN\n2    12147973  2017-09-03         f   NaN\n3    12147973  2017-09-02         f   NaN\n4    12147973  2017-09-01         f   NaN",
      "text/html": "<div>\n<style scoped>\n    .dataframe tbody tr th:only-of-type {\n        vertical-align: middle;\n    }\n\n    .dataframe tbody tr th {\n        vertical-align: top;\n    }\n\n    .dataframe thead th {\n        text-align: right;\n    }\n</style>\n<table border=\"1\" class=\"dataframe\">\n  <thead>\n    <tr style=\"text-align: right;\">\n      <th></th>\n      <th>listing_id</th>\n      <th>date</th>\n      <th>available</th>\n      <th>price</th>\n    </tr>\n  </thead>\n  <tbody>\n    <tr>\n      <th>0</th>\n      <td>12147973</td>\n      <td>2017-09-05</td>\n      <td>f</td>\n      <td>NaN</td>\n    </tr>\n    <tr>\n      <th>1</th>\n      <td>12147973</td>\n      <td>2017-09-04</td>\n      <td>f</td>\n      <td>NaN</td>\n    </tr>\n    <tr>\n      <th>2</th>\n      <td>12147973</td>\n      <td>2017-09-03</td>\n      <td>f</td>\n      <td>NaN</td>\n    </tr>\n    <tr>\n      <th>3</th>\n      <td>12147973</td>\n      <td>2017-09-02</td>\n      <td>f</td>\n      <td>NaN</td>\n    </tr>\n    <tr>\n      <th>4</th>\n      <td>12147973</td>\n      <td>2017-09-01</td>\n      <td>f</td>\n      <td>NaN</td>\n    </tr>\n  </tbody>\n</table>\n</div>"
     },
     "execution_count": 52,
     "metadata": {},
     "output_type": "execute_result"
    }
   ],
   "source": [
    "\"\"\"\n",
    "This project is created for the Udacity program purpose\n",
    "@author: hotronghai\n",
    "\"\"\"\n",
    "import pandas as pd\n",
    "\n",
    "# % matplotlib inline\n",
    "\n",
    "df_cal = pd.read_csv('./boston_data/calendar.csv')\n",
    "df_listing = pd.read_csv('./boston_data/listings.csv')\n",
    "\n",
    "# df_listing.head()\n",
    "# print(df_cal.head())\n",
    "df_cal.head()\n"
   ],
   "metadata": {
    "collapsed": false,
    "pycharm": {
     "name": "#%%\n"
    }
   }
  },
  {
   "cell_type": "markdown",
   "source": [
    "### Prepare data\n",
    "The data having some invalid format. So I want to build some functions that format and extract data from column\n",
    "- `convert_to_date`: this function will convert data column which default `dtypes` is `object` to `datatime` value\n",
    "- `convert_to_money`: Because data having $ sign as currency unit, it is difficult to compare or sum by value, we will remove $ sign and convert to `float` type\n",
    "- `re_mapping` city: the data has some inconsistent data for `city`, for example `Boston (Charlestown)`, `Jamaica Plain (Boston)`..These values should be mapped with specified location (if any)\n"
   ],
   "metadata": {
    "collapsed": false,
    "pycharm": {
     "name": "#%% md\n"
    }
   }
  },
  {
   "cell_type": "code",
   "execution_count": 53,
   "outputs": [
    {
     "data": {
      "text/plain": "Boston                       3381\nRoxbury Crossing               24\nSomerville                     19\nJamaica Plain                  18\nBrookline                      18\nCambridge                      16\nDorchester                     15\nBrighton                       15\nCharlestown                    15\nAllston                        12\nRoslindale                      6\nWest Roxbury                    5\nROXBURY CROSSING                4\nEast Boston                     3\nMattapan                        3\nBoston, Massachusetts, US       2\nSouth Boston                    2\nJamaica Plain                   2\nHyde Park                       2\nJamaica Plain, Boston           2\nALLSTON                         2\nMilton                          1\nSouth End, Boston               1\ndorchester, boston              1\nJamaica Plain (Boston)          1\nBoston                          1\nboston                          1\nBoston (Charlestown)            1\nMission Hill, Boston            1\nJamaica Plain, MA               1\nRoslindale, Boston              1\nBoston (Jamaica Plain)          1\nNewton                          1\nWatertown                       1\nJamaica plain                   1\neast Boston                     1\n波士顿                             1\nBrighton                        1\nName: city, dtype: int64"
     },
     "execution_count": 53,
     "metadata": {},
     "output_type": "execute_result"
    }
   ],
   "source": [
    "df_listing['city'].value_counts()"
   ],
   "metadata": {
    "collapsed": false,
    "pycharm": {
     "name": "#%%\n"
    }
   }
  },
  {
   "cell_type": "code",
   "execution_count": 54,
   "outputs": [],
   "source": [
    "def convert_to_date(df, date_field):\n",
    "    df[date_field] = pd.to_datetime(df[date_field])\n",
    "    # df_cal['date'].dt.month\n",
    "\n",
    "\n",
    "def convert_to_money(df, money_fields):\n",
    "    for money_field in money_fields:\n",
    "        df[money_field] = df[money_field].replace('[\\$,]', '', regex=True).astype(float)\n",
    "\n",
    "\n",
    "def add_month(df, date_col, new_month_col=\"_month\"):\n",
    "    df[new_month_col] = df[date_col].dt.month\n",
    "\n",
    "\n",
    "def is_any_null(df, col):\n",
    "    return any(df[col].isnull())\n",
    "\n",
    "\n",
    "def convert_to_city(df, city_field):\n",
    "    def re_mapping(city):\n",
    "        _d = {\n",
    "            \"Boston (Charlestown)\": \"Charlestown\",\n",
    "            \"Jamaica Plain (Boston)\": \"Jamaica Plain\",\n",
    "            \"Jamaica Plain, Boston\": \"Jamaica Plain\",\n",
    "            \"Jamaica plain\": \"Jamaica Plain\",\n",
    "            \"Jamaica Plain, MA\": \"Jamaica Plain\",\n",
    "            \"Boston (Jamaica Plain)\": \"Jamaica Plain\",\n",
    "            \"Boston, Massachusetts, Us\": \"Boston\",\n",
    "            \"East Boston\": \"Boston\",\n",
    "            \"Dorchester, Boston\": \"Dorchester\",\n",
    "            \"Roslindale, Boston\": \"Roslindale\",\n",
    "            \"波士顿\": \"Boston\",\n",
    "            \"South End, Boston\": \"Boston\",\n",
    "            \"Mission Hill, Boston\": \"Boston\"\n",
    "        }\n",
    "\n",
    "        return _d[title(city)] if title(city) in _d else title(city)\n",
    "\n",
    "    df[city_field] = df[city_field].astype(str)\n",
    "    df[city_field] = df[city_field].apply(trim)\n",
    "    df[city_field] = df[city_field].apply(re_mapping)\n",
    "\n",
    "\n",
    "def trim(s):\n",
    "    return s.strip()\n",
    "\n",
    "\n",
    "def title(s):\n",
    "    return s.title()\n",
    "\n",
    "\n",
    "def merge_df_cal_listing(_df_cal, _df_listing):\n",
    "    return pd.merge(_df_cal, _df_listing, how='inner', left_on=['listing_id'], right_on=['id'])\n",
    "\n",
    "\n",
    "convert_to_date(df_cal, 'date')\n",
    "convert_to_money(df_cal, ['price'])\n",
    "\n",
    "convert_to_money(df_listing, ['price', 'monthly_price', 'security_deposit', 'cleaning_fee', 'extra_people'])\n",
    "convert_to_city(df_listing, 'city')\n",
    "\n",
    "df_cal_listing = merge_df_cal_listing(df_cal, df_listing)\n",
    "\n"
   ],
   "metadata": {
    "collapsed": false,
    "pycharm": {
     "name": "#%%\n"
    }
   }
  },
  {
   "cell_type": "code",
   "execution_count": 55,
   "outputs": [
    {
     "data": {
      "text/plain": "0          9\n1          9\n2          9\n3          9\n4          9\n          ..\n1308885    9\n1308886    9\n1308887    9\n1308888    9\n1308889    9\nName: _month, Length: 1308890, dtype: int64"
     },
     "execution_count": 55,
     "metadata": {},
     "output_type": "execute_result"
    }
   ],
   "source": [
    "add_month(df=df_cal_listing, date_col=\"date\", new_month_col=\"_month\")\n",
    "df_cal_listing['_month']"
   ],
   "metadata": {
    "collapsed": false,
    "pycharm": {
     "name": "#%%\n"
    }
   }
  },
  {
   "cell_type": "code",
   "execution_count": 56,
   "outputs": [
    {
     "data": {
      "text/plain": "<Figure size 1080x504 with 1 Axes>",
      "image/png": "[encoded data removed]"
     },
     "metadata": {
      "needs_background": "light"
     },
     "output_type": "display_data"
    }
   ],
   "source": [
    "import matplotlib.pyplot as plt\n",
    "\n",
    "\n",
    "def chart_price_by_city_and_month():\n",
    "    fig, ax = plt.subplots(figsize=(15, 7))\n",
    "    plt.title(\"Mean price by City and Month\")\n",
    "    g_city_and_month = df_cal_listing.groupby(['city', '_month'])['price_x'].mean()\n",
    "    g_city_and_month.unstack().plot(legend=True, kind='bar', ax=ax)\n",
    "\n",
    "    plt.savefig('chart_price_by_city_and_month.png', dpi=100, bbox_inches='tight')\n",
    "\n",
    "\n",
    "chart_price_by_city_and_month()"
   ],
   "metadata": {
    "collapsed": false,
    "pycharm": {
     "name": "#%%\n"
    }
   }
  },
  {
   "cell_type": "code",
   "execution_count": 57,
   "outputs": [
    {
     "data": {
      "text/plain": "                      price_x                                          \\\n                         mean    min     max _diff_percent _min_month   \ncity                                                                    \nAllston             99.167632   32.0   295.0      8.218750       10.0   \nBoston             202.449585   11.0  7163.0    650.181818        6.0   \nBrighton           120.593124   50.0   500.0      9.000000        7.0   \nBrookline          127.450736   39.0   409.0      9.487179        6.0   \nCambridge          197.659038   72.0   959.0     12.319444       10.0   \nCharlestown        340.640029  100.0  1000.0      9.000000       10.0   \nDorchester          59.140617   22.0   399.0     17.136364       10.0   \nHyde Park           63.230088   50.0    75.0      0.500000       11.0   \nJamaica Plain      174.221162   60.0   450.0      6.500000        9.0   \nJamaica Plain, Ma  120.000000  120.0   120.0      0.000000        9.0   \nMattapan           112.664474   75.0   330.0      3.400000        9.0   \nMilton              50.000000   50.0    50.0      0.000000        5.0   \nNan                 71.504814   68.0    75.0      0.102941        8.0   \nNewton              95.670732   90.0   116.0      0.288889        9.0   \nRoslindale         106.328404   58.0   400.0      5.896552        9.0   \nRoxbury Crossing   114.582674   20.0   350.0     16.500000        9.0   \nSomerville          91.009037   36.0   249.0      5.916667        5.0   \nSouth Boston       167.014286   89.0   335.0      2.764045        9.0   \nWatertown           60.000000   60.0    60.0      0.000000        9.0   \nWest Roxbury        60.916335   48.0   175.0      2.645833        5.0   \n\n                              \n                  _max_month  \ncity                          \nAllston                  4.0  \nBoston                  10.0  \nBrighton                 9.0  \nBrookline               12.0  \nCambridge                2.0  \nCharlestown              9.0  \nDorchester               4.0  \nHyde Park                4.0  \nJamaica Plain            9.0  \nJamaica Plain, Ma        9.0  \nMattapan                 5.0  \nMilton                   5.0  \nNan                      9.0  \nNewton                   6.0  \nRoslindale               5.0  \nRoxbury Crossing         9.0  \nSomerville               9.0  \nSouth Boston             1.0  \nWatertown                9.0  \nWest Roxbury             9.0  ",
      "text/html": "<div>\n<style scoped>\n    .dataframe tbody tr th:only-of-type {\n        vertical-align: middle;\n    }\n\n    .dataframe tbody tr th {\n        vertical-align: top;\n    }\n\n    .dataframe thead tr th {\n        text-align: left;\n    }\n\n    .dataframe thead tr:last-of-type th {\n        text-align: right;\n    }\n</style>\n<table border=\"1\" class=\"dataframe\">\n  <thead>\n    <tr>\n      <th></th>\n      <th colspan=\"6\" halign=\"left\">price_x</th>\n    </tr>\n    <tr>\n      <th></th>\n      <th>mean</th>\n      <th>min</th>\n      <th>max</th>\n      <th>_diff_percent</th>\n      <th>_min_month</th>\n      <th>_max_month</th>\n    </tr>\n    <tr>\n      <th>city</th>\n      <th></th>\n      <th></th>\n      <th></th>\n      <th></th>\n      <th></th>\n      <th></th>\n    </tr>\n  </thead>\n  <tbody>\n    <tr>\n      <th>Allston</th>\n      <td>99.167632</td>\n      <td>32.0</td>\n      <td>295.0</td>\n      <td>8.218750</td>\n      <td>10.0</td>\n      <td>4.0</td>\n    </tr>\n    <tr>\n      <th>Boston</th>\n      <td>202.449585</td>\n      <td>11.0</td>\n      <td>7163.0</td>\n      <td>650.181818</td>\n      <td>6.0</td>\n      <td>10.0</td>\n    </tr>\n    <tr>\n      <th>Brighton</th>\n      <td>120.593124</td>\n      <td>50.0</td>\n      <td>500.0</td>\n      <td>9.000000</td>\n      <td>7.0</td>\n      <td>9.0</td>\n    </tr>\n    <tr>\n      <th>Brookline</th>\n      <td>127.450736</td>\n      <td>39.0</td>\n      <td>409.0</td>\n      <td>9.487179</td>\n      <td>6.0</td>\n      <td>12.0</td>\n    </tr>\n    <tr>\n      <th>Cambridge</th>\n      <td>197.659038</td>\n      <td>72.0</td>\n      <td>959.0</td>\n      <td>12.319444</td>\n      <td>10.0</td>\n      <td>2.0</td>\n    </tr>\n    <tr>\n      <th>Charlestown</th>\n      <td>340.640029</td>\n      <td>100.0</td>\n      <td>1000.0</td>\n      <td>9.000000</td>\n      <td>10.0</td>\n      <td>9.0</td>\n    </tr>\n    <tr>\n      <th>Dorchester</th>\n      <td>59.140617</td>\n      <td>22.0</td>\n      <td>399.0</td>\n      <td>17.136364</td>\n      <td>10.0</td>\n      <td>4.0</td>\n    </tr>\n    <tr>\n      <th>Hyde Park</th>\n      <td>63.230088</td>\n      <td>50.0</td>\n      <td>75.0</td>\n      <td>0.500000</td>\n      <td>11.0</td>\n      <td>4.0</td>\n    </tr>\n    <tr>\n      <th>Jamaica Plain</th>\n      <td>174.221162</td>\n      <td>60.0</td>\n      <td>450.0</td>\n      <td>6.500000</td>\n      <td>9.0</td>\n      <td>9.0</td>\n    </tr>\n    <tr>\n      <th>Jamaica Plain, Ma</th>\n      <td>120.000000</td>\n      <td>120.0</td>\n      <td>120.0</td>\n      <td>0.000000</td>\n      <td>9.0</td>\n      <td>9.0</td>\n    </tr>\n    <tr>\n      <th>Mattapan</th>\n      <td>112.664474</td>\n      <td>75.0</td>\n      <td>330.0</td>\n      <td>3.400000</td>\n      <td>9.0</td>\n      <td>5.0</td>\n    </tr>\n    <tr>\n      <th>Milton</th>\n      <td>50.000000</td>\n      <td>50.0</td>\n      <td>50.0</td>\n      <td>0.000000</td>\n      <td>5.0</td>\n      <td>5.0</td>\n    </tr>\n    <tr>\n      <th>Nan</th>\n      <td>71.504814</td>\n      <td>68.0</td>\n      <td>75.0</td>\n      <td>0.102941</td>\n      <td>8.0</td>\n      <td>9.0</td>\n    </tr>\n    <tr>\n      <th>Newton</th>\n      <td>95.670732</td>\n      <td>90.0</td>\n      <td>116.0</td>\n      <td>0.288889</td>\n      <td>9.0</td>\n      <td>6.0</td>\n    </tr>\n    <tr>\n      <th>Roslindale</th>\n      <td>106.328404</td>\n      <td>58.0</td>\n      <td>400.0</td>\n      <td>5.896552</td>\n      <td>9.0</td>\n      <td>5.0</td>\n    </tr>\n    <tr>\n      <th>Roxbury Crossing</th>\n      <td>114.582674</td>\n      <td>20.0</td>\n      <td>350.0</td>\n      <td>16.500000</td>\n      <td>9.0</td>\n      <td>9.0</td>\n    </tr>\n    <tr>\n      <th>Somerville</th>\n      <td>91.009037</td>\n      <td>36.0</td>\n      <td>249.0</td>\n      <td>5.916667</td>\n      <td>5.0</td>\n      <td>9.0</td>\n    </tr>\n    <tr>\n      <th>South Boston</th>\n      <td>167.014286</td>\n      <td>89.0</td>\n      <td>335.0</td>\n      <td>2.764045</td>\n      <td>9.0</td>\n      <td>1.0</td>\n    </tr>\n    <tr>\n      <th>Watertown</th>\n      <td>60.000000</td>\n      <td>60.0</td>\n      <td>60.0</td>\n      <td>0.000000</td>\n      <td>9.0</td>\n      <td>9.0</td>\n    </tr>\n    <tr>\n      <th>West Roxbury</th>\n      <td>60.916335</td>\n      <td>48.0</td>\n      <td>175.0</td>\n      <td>2.645833</td>\n      <td>5.0</td>\n      <td>9.0</td>\n    </tr>\n  </tbody>\n</table>\n</div>"
     },
     "metadata": {},
     "output_type": "display_data"
    }
   ],
   "source": [
    "import numpy as np\n",
    "from IPython.display import display\n",
    "\n",
    "\n",
    "def _diff_percent(x):\n",
    "    return (np.max(x) - np.min(x)) / np.min(x)\n",
    "\n",
    "\n",
    "def _min_month(x):\n",
    "    _indices = np.argmin(x)\n",
    "    _rs = df_cal_listing.iloc[_indices]\n",
    "    return _rs['_month']\n",
    "\n",
    "\n",
    "def _max_month(x):\n",
    "    _indices = np.argmax(x)\n",
    "    _rs = df_cal_listing.iloc[_indices]\n",
    "    return _rs['_month']\n",
    "\n",
    "\n",
    "def print_max_min_price_by_city():\n",
    "    g_max_min = df_cal_listing.groupby(['city']).agg({\n",
    "        'price_x': ['mean', 'min', 'max', _diff_percent, _min_month, _max_month],\n",
    "        # '_month': 'first'\n",
    "    })\n",
    "\n",
    "    # g_max_min.to_markdown()\n",
    "    display(g_max_min)\n",
    "\n",
    "\n",
    "print_max_min_price_by_city()"
   ],
   "metadata": {
    "collapsed": false,
    "pycharm": {
     "name": "#%%\n"
    }
   }
  },
  {
   "cell_type": "markdown",
   "source": [
    "### Question 1: Earning in time frames and areas\n",
    "- In the chart we can see Chartlestown city has highest price (mean 340$/day) and West Roxbury has lowest price in every month.\n",
    "- There are some cities having stable price in all months: Watertown, Milton\n",
    "- Except Boston (common location), there are some city have big diffirent in day and month. Min price at Oct and Max price at Apr\n",
    "    - Dorchester has low price at 22$/day\n",
    "\n"
   ],
   "metadata": {
    "collapsed": false,
    "pycharm": {
     "name": "#%% md\n"
    }
   }
  },
  {
   "cell_type": "markdown",
   "source": [
    "- Sep: almost with hight price\n",
    "- Chartlestown with highest price"
   ],
   "metadata": {
    "collapsed": false,
    "pycharm": {
     "name": "#%% md\n"
    }
   }
  },
  {
   "cell_type": "markdown",
   "source": [
    "### Properties that predict price\n"
   ],
   "metadata": {
    "collapsed": false,
    "pycharm": {
     "name": "#%% md\n"
    }
   }
  },
  {
   "cell_type": "code",
   "execution_count": 58,
   "outputs": [
    {
     "name": "stderr",
     "output_type": "stream",
     "text": [
      "c:\\users\\haiht\\appdata\\local\\programs\\python\\python37\\lib\\site-packages\\pandas\\core\\reshape\\merge.py:648: UserWarning: merging between different levels can give an unintended result (1 levels on the left,2 on the right)\n",
      "  warnings.warn(msg, UserWarning)\n"
     ]
    }
   ],
   "source": [
    "from datetime import date\n",
    "\n",
    "\n",
    "def choose_features():\n",
    "    # host_since: date\n",
    "    return ['host_has_profile_pic', 'host_identity_verified', 'city', 'accommodates', 'bathrooms',\n",
    "            'bedrooms', 'beds', 'bed_type', 'guests_included', 'extra_people', 'minimum_nights', 'maximum_nights',\n",
    "            'availability_30', 'availability_60', 'availability_90', 'availability_365', 'number_of_reviews',\n",
    "            'review_scores_rating', 'review_scores_accuracy', 'review_scores_cleanliness', 'review_scores_checkin',\n",
    "            'review_scores_communication', 'review_scores_location', 'review_scores_value', 'cancellation_policy',\n",
    "            'require_guest_profile_picture', 'require_guest_phone_verification', 'calculated_host_listings_count',\n",
    "            'reviews_per_month', 'price']\n",
    "\n",
    "\n",
    "def prepare_data(df_listing):\n",
    "    def _get_since_days(since):\n",
    "        now = date.today()\n",
    "        return (now - since).days\n",
    "\n",
    "    def _fill_mean(col):\n",
    "        return col.fillna(col.mean())\n",
    "\n",
    "    def _convert_bool(v):\n",
    "        return 1 if str(v).lower() == 't' else 0\n",
    "\n",
    "    def _expand_category_columns(_df, _cat_cols):\n",
    "        for cat_col in _cat_cols:\n",
    "            try:\n",
    "                _df = pd.concat([_df.drop(cat_col, axis=1),\n",
    "                                 pd.get_dummies(_df[cat_col], prefix=cat_col, prefix_sep='_', drop_first=True,\n",
    "                                                dummy_na=True)], axis=1)\n",
    "            except:\n",
    "                continue\n",
    "        return _df\n",
    "\n",
    "    def _expand_feature_groupby(_df: pd.DataFrame, group_field='city'):\n",
    "        num_cols = _df.select_dtypes(include=['float', 'int']).columns\n",
    "\n",
    "        for num_col in num_cols:\n",
    "            _g_df = _df.groupby(group_field).agg(\n",
    "                {num_col: ['mean', 'max', 'min']}\n",
    "            )\n",
    "\n",
    "            _df = pd.merge(_df, _g_df, on=group_field)\n",
    "\n",
    "        return _df\n",
    "\n",
    "    def _expand_feature_common_func(_df: pd.DataFrame, funcs):\n",
    "        num_cols = _df.select_dtypes(include=['float', 'int']).columns\n",
    "        for num_col in num_cols:\n",
    "            for func in funcs:\n",
    "                _df[f\"{num_cols}_{str(func)}\"] = _df[num_col].apply(func)\n",
    "\n",
    "        return _df\n",
    "\n",
    "    def _expand_feature_composed(_df: pd.DataFrame):\n",
    "        num_cols = _df.select_dtypes(include=['float', 'int']).columns\n",
    "        for col_1 in num_cols:\n",
    "            for col_2 in num_cols:\n",
    "                _df[f\"{col_1}_and_{col_2}\"] = _df[col_1] * _df[col_2]\n",
    "\n",
    "        return _df\n",
    "\n",
    "    # convert_to_date(df_listing, 'host_since')\n",
    "    # df_listing['_since_year'] = df_listing['_since_year'].apply(_get_since_days)\n",
    "\n",
    "    df_listing.dropna(subset=['price'], axis=0)\n",
    "\n",
    "    for c in ['host_has_profile_pic', 'host_identity_verified', 'require_guest_profile_picture',\n",
    "              'require_guest_phone_verification']:\n",
    "        df_listing[c] = df_listing[c].apply(_convert_bool)\n",
    "\n",
    "    convert_to_money(df_listing, ['price'])\n",
    "\n",
    "    for c in ['accommodates', 'bathrooms', 'bedrooms', 'beds', 'guests_included', 'minimum_nights', 'maximum_nights',\n",
    "              'availability_30', 'availability_60', 'availability_90', 'availability_365', 'number_of_reviews',\n",
    "              'review_scores_rating', 'review_scores_accuracy', 'review_scores_cleanliness', 'review_scores_checkin',\n",
    "              'review_scores_communication', 'review_scores_location', 'review_scores_value',\n",
    "              'calculated_host_listings_count', 'reviews_per_month'\n",
    "              ]:\n",
    "        df_listing[c] = _fill_mean(df_listing[c])\n",
    "\n",
    "    _df = df_listing[choose_features()]\n",
    "\n",
    "    _df = _expand_feature_groupby(_df, group_field='city')\n",
    "\n",
    "    _df = _expand_feature_common_func(_df, funcs=[np.log, np.sqrt, np.min, np.square])\n",
    "\n",
    "    _df = _expand_feature_composed(_df)\n",
    "\n",
    "    _df = _expand_category_columns(_df, ['city', 'bed_type', 'cancellation_policy'])\n",
    "    # _df = _df.drop(['city', 'bed_type', 'cancellation_policy'], axis=1)\n",
    "\n",
    "    return _df\n",
    "\n",
    "\n",
    "cleaned_df = prepare_data(df_listing)\n",
    "\n"
   ],
   "metadata": {
    "collapsed": false,
    "pycharm": {
     "name": "#%%\n"
    }
   }
  },
  {
   "cell_type": "code",
   "execution_count": 59,
   "outputs": [],
   "source": [
    "X = cleaned_df.drop('price', axis=1)\n",
    "y = cleaned_df['price']\n"
   ],
   "metadata": {
    "collapsed": false,
    "pycharm": {
     "name": "#%% Split\n"
    }
   }
  },
  {
   "cell_type": "code",
   "execution_count": 60,
   "outputs": [],
   "source": [
    "from sklearn.linear_model import LinearRegression\n",
    "from sklearn.metrics import r2_score\n",
    "from sklearn.model_selection import train_test_split\n",
    "\n",
    "#Split into train and test\n",
    "X_train, X_test, y_train, y_test = train_test_split(X, y, test_size=0.15, random_state=37)"
   ],
   "metadata": {
    "collapsed": false,
    "pycharm": {
     "name": "#%%\n"
    }
   }
  },
  {
   "cell_type": "code",
   "execution_count": 61,
   "outputs": [
    {
     "data": {
      "text/plain": "LinearRegression(normalize=True)"
     },
     "execution_count": 61,
     "metadata": {},
     "output_type": "execute_result"
    }
   ],
   "source": [
    "\n",
    "lm_model = LinearRegression(normalize=True)\n",
    "# lm_model = TransformedTargetRegressor(\n",
    "#         regressor=regressor,\n",
    "#         func=np.log, inverse_func=np.exp)\n",
    "# Instantiate\n",
    "lm_model.fit(X_train, y_train)  #Fit"
   ],
   "metadata": {
    "collapsed": false,
    "pycharm": {
     "name": "#%%\n"
    }
   }
  },
  {
   "cell_type": "code",
   "execution_count": 62,
   "outputs": [
    {
     "name": "stdout",
     "output_type": "stream",
     "text": [
      "(1.0, 0.9999999065964312)\n"
     ]
    }
   ],
   "source": [
    "#Predict using your model\n",
    "y_train_preds = lm_model.predict(X_train)\n",
    "y_test_preds = lm_model.predict(X_test)\n",
    "\n",
    "#Score using your model\n",
    "train_score = r2_score(y_train, y_train_preds)\n",
    "test_score = r2_score(y_test, y_test_preds)\n",
    "\n",
    "print((train_score, test_score))\n"
   ],
   "metadata": {
    "collapsed": false,
    "pycharm": {
     "name": "#%%\n"
    }
   }
  },
  {
   "cell_type": "code",
   "execution_count": null,
   "outputs": [],
   "source": [
    "import seaborn as sns\n",
    "\n",
    "sns.heatmap(cleaned_df.corr())\n",
    "plt.savefig('./images/headmap_cleaned_df_2.png', dpi=1000)\n",
    "\n",
    "from sklearn.metrics import mean_absolute_error\n",
    "\n",
    "print(mean_absolute_error(y_test, y_test_preds))\n"
   ],
   "metadata": {
    "collapsed": false,
    "pycharm": {
     "name": "#%%\n"
    }
   }
  }
 ],
 "metadata": {
  "kernelspec": {
   "display_name": "Python 3",
   "language": "python",
   "name": "python3"
  },
  "language_info": {
   "codemirror_mode": {
    "name": "ipython",
    "version": 2
   },
   "file_extension": ".py",
   "mimetype": "text/x-python",
   "name": "python",
   "nbconvert_exporter": "python",
   "pygments_lexer": "ipython2",
   "version": "2.7.6"
  }
 },
 "nbformat": 4,
 "nbformat_minor": 0
}