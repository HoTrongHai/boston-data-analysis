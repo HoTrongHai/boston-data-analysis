{
 "cells": [
  {
   "cell_type": "code",
   "execution_count": 1,
   "outputs": [
    {
     "data": {
      "text/plain": "'\\nThis project is created for the Udacity program purpose\\n@author: hotronghai\\n'"
     },
     "execution_count": 1,
     "metadata": {},
     "output_type": "execute_result"
    }
   ],
   "source": [
    "\"\"\"\n",
    "This project is created for the Udacity program purpose\n",
    "@author: hotronghai\n",
    "\"\"\"\n"
   ],
   "metadata": {
    "collapsed": false,
    "pycharm": {
     "name": "#%%\n"
    }
   }
  },
  {
   "cell_type": "code",
   "execution_count": 2,
   "outputs": [
    {
     "name": "stdout",
     "output_type": "stream",
     "text": [
      "Calendar sample data: \n"
     ]
    },
    {
     "data": {
      "text/plain": "   listing_id        date available price\n0    12147973  2017-09-05         f   NaN\n1    12147973  2017-09-04         f   NaN\n2    12147973  2017-09-03         f   NaN\n3    12147973  2017-09-02         f   NaN\n4    12147973  2017-09-01         f   NaN",
      "text/html": "<div>\n<style scoped>\n    .dataframe tbody tr th:only-of-type {\n        vertical-align: middle;\n    }\n\n    .dataframe tbody tr th {\n        vertical-align: top;\n    }\n\n    .dataframe thead th {\n        text-align: right;\n    }\n</style>\n<table border=\"1\" class=\"dataframe\">\n  <thead>\n    <tr style=\"text-align: right;\">\n      <th></th>\n      <th>listing_id</th>\n      <th>date</th>\n      <th>available</th>\n      <th>price</th>\n    </tr>\n  </thead>\n  <tbody>\n    <tr>\n      <th>0</th>\n      <td>12147973</td>\n      <td>2017-09-05</td>\n      <td>f</td>\n      <td>NaN</td>\n    </tr>\n    <tr>\n      <th>1</th>\n      <td>12147973</td>\n      <td>2017-09-04</td>\n      <td>f</td>\n      <td>NaN</td>\n    </tr>\n    <tr>\n      <th>2</th>\n      <td>12147973</td>\n      <td>2017-09-03</td>\n      <td>f</td>\n      <td>NaN</td>\n    </tr>\n    <tr>\n      <th>3</th>\n      <td>12147973</td>\n      <td>2017-09-02</td>\n      <td>f</td>\n      <td>NaN</td>\n    </tr>\n    <tr>\n      <th>4</th>\n      <td>12147973</td>\n      <td>2017-09-01</td>\n      <td>f</td>\n      <td>NaN</td>\n    </tr>\n  </tbody>\n</table>\n</div>"
     },
     "metadata": {},
     "output_type": "display_data"
    },
    {
     "name": "stdout",
     "output_type": "stream",
     "text": [
      "Listing sample data: \n"
     ]
    },
    {
     "data": {
      "text/plain": "         id                            listing_url       scrape_id  \\\n0  12147973  https://www.airbnb.com/rooms/12147973  20160906204935   \n1   3075044   https://www.airbnb.com/rooms/3075044  20160906204935   \n2      6976      https://www.airbnb.com/rooms/6976  20160906204935   \n3   1436513   https://www.airbnb.com/rooms/1436513  20160906204935   \n4   7651065   https://www.airbnb.com/rooms/7651065  20160906204935   \n\n  last_scraped                                           name  \\\n0   2016-09-07                     Sunny Bungalow in the City   \n1   2016-09-07              Charming room in pet friendly apt   \n2   2016-09-07               Mexican Folk Art Haven in Boston   \n3   2016-09-07  Spacious Sunny Bedroom Suite in Historic Home   \n4   2016-09-07                            Come Home to Boston   \n\n                                             summary  \\\n0  Cozy, sunny, family home.  Master bedroom high...   \n1  Charming and quiet room in a second floor 1910...   \n2  Come stay with a friendly, middle-aged guy in ...   \n3  Come experience the comforts of home away from...   \n4  My comfy, clean and relaxing home is one block...   \n\n                                               space  \\\n0  The house has an open and cozy feel at the sam...   \n1  Small but cozy and quite room with a full size...   \n2  Come stay with a friendly, middle-aged guy in ...   \n3  Most places you find in Boston are small howev...   \n4  Clean, attractive, private room, one block fro...   \n\n                                         description experiences_offered  \\\n0  Cozy, sunny, family home.  Master bedroom high...                none   \n1  Charming and quiet room in a second floor 1910...                none   \n2  Come stay with a friendly, middle-aged guy in ...                none   \n3  Come experience the comforts of home away from...                none   \n4  My comfy, clean and relaxing home is one block...                none   \n\n                               neighborhood_overview  ... review_scores_value  \\\n0  Roslindale is quiet, convenient and friendly. ...  ...                 NaN   \n1  The room is in Roslindale, a diverse and prima...  ...                 9.0   \n2  The LOCATION: Roslindale is a safe and diverse...  ...                10.0   \n3  Roslindale is a lovely little neighborhood loc...  ...                10.0   \n4  I love the proximity to downtown, the neighbor...  ...                10.0   \n\n  requires_license license jurisdiction_names instant_bookable  \\\n0                f     NaN                NaN                f   \n1                f     NaN                NaN                t   \n2                f     NaN                NaN                f   \n3                f     NaN                NaN                f   \n4                f     NaN                NaN                f   \n\n  cancellation_policy require_guest_profile_picture  \\\n0            moderate                             f   \n1            moderate                             f   \n2            moderate                             t   \n3            moderate                             f   \n4            flexible                             f   \n\n  require_guest_phone_verification calculated_host_listings_count  \\\n0                                f                              1   \n1                                f                              1   \n2                                f                              1   \n3                                f                              1   \n4                                f                              1   \n\n   reviews_per_month  \n0                NaN  \n1               1.30  \n2               0.47  \n3               1.00  \n4               2.25  \n\n[5 rows x 95 columns]",
      "text/html": "<div>\n<style scoped>\n    .dataframe tbody tr th:only-of-type {\n        vertical-align: middle;\n    }\n\n    .dataframe tbody tr th {\n        vertical-align: top;\n    }\n\n    .dataframe thead th {\n        text-align: right;\n    }\n</style>\n<table border=\"1\" class=\"dataframe\">\n  <thead>\n    <tr style=\"text-align: right;\">\n      <th></th>\n      <th>id</th>\n      <th>listing_url</th>\n      <th>scrape_id</th>\n      <th>last_scraped</th>\n      <th>name</th>\n      <th>summary</th>\n      <th>space</th>\n      <th>description</th>\n      <th>experiences_offered</th>\n      <th>neighborhood_overview</th>\n      <th>...</th>\n      <th>review_scores_value</th>\n      <th>requires_license</th>\n      <th>license</th>\n      <th>jurisdiction_names</th>\n      <th>instant_bookable</th>\n      <th>cancellation_policy</th>\n      <th>require_guest_profile_picture</th>\n      <th>require_guest_phone_verification</th>\n      <th>calculated_host_listings_count</th>\n      <th>reviews_per_month</th>\n    </tr>\n  </thead>\n  <tbody>\n    <tr>\n      <th>0</th>\n      <td>12147973</td>\n      <td>https://www.airbnb.com/rooms/12147973</td>\n      <td>20160906204935</td>\n      <td>2016-09-07</td>\n      <td>Sunny Bungalow in the City</td>\n      <td>Cozy, sunny, family home.  Master bedroom high...</td>\n      <td>The house has an open and cozy feel at the sam...</td>\n      <td>Cozy, sunny, family home.  Master bedroom high...</td>\n      <td>none</td>\n      <td>Roslindale is quiet, convenient and friendly. ...</td>\n      <td>...</td>\n      <td>NaN</td>\n      <td>f</td>\n      <td>NaN</td>\n      <td>NaN</td>\n      <td>f</td>\n      <td>moderate</td>\n      <td>f</td>\n      <td>f</td>\n      <td>1</td>\n      <td>NaN</td>\n    </tr>\n    <tr>\n      <th>1</th>\n      <td>3075044</td>\n      <td>https://www.airbnb.com/rooms/3075044</td>\n      <td>20160906204935</td>\n      <td>2016-09-07</td>\n      <td>Charming room in pet friendly apt</td>\n      <td>Charming and quiet room in a second floor 1910...</td>\n      <td>Small but cozy and quite room with a full size...</td>\n      <td>Charming and quiet room in a second floor 1910...</td>\n      <td>none</td>\n      <td>The room is in Roslindale, a diverse and prima...</td>\n      <td>...</td>\n      <td>9.0</td>\n      <td>f</td>\n      <td>NaN</td>\n      <td>NaN</td>\n      <td>t</td>\n      <td>moderate</td>\n      <td>f</td>\n      <td>f</td>\n      <td>1</td>\n      <td>1.30</td>\n    </tr>\n    <tr>\n      <th>2</th>\n      <td>6976</td>\n      <td>https://www.airbnb.com/rooms/6976</td>\n      <td>20160906204935</td>\n      <td>2016-09-07</td>\n      <td>Mexican Folk Art Haven in Boston</td>\n      <td>Come stay with a friendly, middle-aged guy in ...</td>\n      <td>Come stay with a friendly, middle-aged guy in ...</td>\n      <td>Come stay with a friendly, middle-aged guy in ...</td>\n      <td>none</td>\n      <td>The LOCATION: Roslindale is a safe and diverse...</td>\n      <td>...</td>\n      <td>10.0</td>\n      <td>f</td>\n      <td>NaN</td>\n      <td>NaN</td>\n      <td>f</td>\n      <td>moderate</td>\n      <td>t</td>\n      <td>f</td>\n      <td>1</td>\n      <td>0.47</td>\n    </tr>\n    <tr>\n      <th>3</th>\n      <td>1436513</td>\n      <td>https://www.airbnb.com/rooms/1436513</td>\n      <td>20160906204935</td>\n      <td>2016-09-07</td>\n      <td>Spacious Sunny Bedroom Suite in Historic Home</td>\n      <td>Come experience the comforts of home away from...</td>\n      <td>Most places you find in Boston are small howev...</td>\n      <td>Come experience the comforts of home away from...</td>\n      <td>none</td>\n      <td>Roslindale is a lovely little neighborhood loc...</td>\n      <td>...</td>\n      <td>10.0</td>\n      <td>f</td>\n      <td>NaN</td>\n      <td>NaN</td>\n      <td>f</td>\n      <td>moderate</td>\n      <td>f</td>\n      <td>f</td>\n      <td>1</td>\n      <td>1.00</td>\n    </tr>\n    <tr>\n      <th>4</th>\n      <td>7651065</td>\n      <td>https://www.airbnb.com/rooms/7651065</td>\n      <td>20160906204935</td>\n      <td>2016-09-07</td>\n      <td>Come Home to Boston</td>\n      <td>My comfy, clean and relaxing home is one block...</td>\n      <td>Clean, attractive, private room, one block fro...</td>\n      <td>My comfy, clean and relaxing home is one block...</td>\n      <td>none</td>\n      <td>I love the proximity to downtown, the neighbor...</td>\n      <td>...</td>\n      <td>10.0</td>\n      <td>f</td>\n      <td>NaN</td>\n      <td>NaN</td>\n      <td>f</td>\n      <td>flexible</td>\n      <td>f</td>\n      <td>f</td>\n      <td>1</td>\n      <td>2.25</td>\n    </tr>\n  </tbody>\n</table>\n<p>5 rows × 95 columns</p>\n</div>"
     },
     "metadata": {},
     "output_type": "display_data"
    },
    {
     "name": "stdout",
     "output_type": "stream",
     "text": [
      "Reviews sample data: \n"
     ]
    },
    {
     "data": {
      "text/plain": "   listing_id       id        date  reviewer_id reviewer_name  \\\n0     1178162  4724140  2013-05-21      4298113       Olivier   \n1     1178162  4869189  2013-05-29      6452964     Charlotte   \n2     1178162  5003196  2013-06-06      6449554     Sebastian   \n3     1178162  5150351  2013-06-15      2215611        Marine   \n4     1178162  5171140  2013-06-16      6848427        Andrew   \n\n                                            comments  \n0  My stay at islam's place was really cool! Good...  \n1  Great location for both airport and city - gre...  \n2  We really enjoyed our stay at Islams house. Fr...  \n3  The room was nice and clean and so were the co...  \n4  Great location. Just 5 mins walk from the Airp...  ",
      "text/html": "<div>\n<style scoped>\n    .dataframe tbody tr th:only-of-type {\n        vertical-align: middle;\n    }\n\n    .dataframe tbody tr th {\n        vertical-align: top;\n    }\n\n    .dataframe thead th {\n        text-align: right;\n    }\n</style>\n<table border=\"1\" class=\"dataframe\">\n  <thead>\n    <tr style=\"text-align: right;\">\n      <th></th>\n      <th>listing_id</th>\n      <th>id</th>\n      <th>date</th>\n      <th>reviewer_id</th>\n      <th>reviewer_name</th>\n      <th>comments</th>\n    </tr>\n  </thead>\n  <tbody>\n    <tr>\n      <th>0</th>\n      <td>1178162</td>\n      <td>4724140</td>\n      <td>2013-05-21</td>\n      <td>4298113</td>\n      <td>Olivier</td>\n      <td>My stay at islam's place was really cool! Good...</td>\n    </tr>\n    <tr>\n      <th>1</th>\n      <td>1178162</td>\n      <td>4869189</td>\n      <td>2013-05-29</td>\n      <td>6452964</td>\n      <td>Charlotte</td>\n      <td>Great location for both airport and city - gre...</td>\n    </tr>\n    <tr>\n      <th>2</th>\n      <td>1178162</td>\n      <td>5003196</td>\n      <td>2013-06-06</td>\n      <td>6449554</td>\n      <td>Sebastian</td>\n      <td>We really enjoyed our stay at Islams house. Fr...</td>\n    </tr>\n    <tr>\n      <th>3</th>\n      <td>1178162</td>\n      <td>5150351</td>\n      <td>2013-06-15</td>\n      <td>2215611</td>\n      <td>Marine</td>\n      <td>The room was nice and clean and so were the co...</td>\n    </tr>\n    <tr>\n      <th>4</th>\n      <td>1178162</td>\n      <td>5171140</td>\n      <td>2013-06-16</td>\n      <td>6848427</td>\n      <td>Andrew</td>\n      <td>Great location. Just 5 mins walk from the Airp...</td>\n    </tr>\n  </tbody>\n</table>\n</div>"
     },
     "metadata": {},
     "output_type": "display_data"
    }
   ],
   "source": [
    "\n",
    "import pandas as pd\n",
    "from IPython.display import display\n",
    "from pandas import Series\n",
    "\n",
    "df_cal = pd.read_csv('./boston_data/calendar.csv')\n",
    "df_listing = pd.read_csv('./boston_data/listings.csv')\n",
    "df_review = pd.read_csv('./boston_data/reviews.csv')\n",
    "\n",
    "print(\"Calendar sample data: \")\n",
    "display(df_cal.head())\n",
    "\n",
    "print(\"Listing sample data: \")\n",
    "display(df_listing.head())\n",
    "\n",
    "print(\"Reviews sample data: \")\n",
    "display(df_review.head())"
   ],
   "metadata": {
    "collapsed": false,
    "pycharm": {
     "name": "#%%\n"
    }
   }
  },
  {
   "cell_type": "code",
   "execution_count": 3,
   "outputs": [
    {
     "name": "stdout",
     "output_type": "stream",
     "text": [
      "listing_id             int64\n",
      "date          datetime64[ns]\n",
      "available               bool\n",
      "price                float64\n",
      "dtype: object\n"
     ]
    }
   ],
   "source": [
    "from abc import ABC, abstractmethod\n",
    "from pandas.core.arrays.categorical import factorize_from_iterable\n",
    "import pickle\n",
    "import numpy as np\n",
    "import copy\n",
    "\n",
    "\n",
    "class OpDataFrame(ABC):\n",
    "    def __init__(self, op_name, ignore_if_failure=False):\n",
    "        self.op_name = op_name\n",
    "        self.ignore_if_failure = ignore_if_failure\n",
    "\n",
    "    @abstractmethod\n",
    "    def op(self, _df: pd.DataFrame):\n",
    "        return _df\n",
    "\n",
    "    def get_info(self):\n",
    "        if hasattr(self, \"field\"):\n",
    "            return f\"{self.op_name}: {self.field}\"\n",
    "        return self.op_name\n",
    "\n",
    "    # def __eq__(self, obj):\n",
    "    #     return isinstance(obj, OpDataFrame) and (obj.op_name == self.op_name) and hasattr(obj, \"field\") and hasattr(self, \"field\") and (obj.field == self.field)\n",
    "\n",
    "\n",
    "class OpConvertDate(OpDataFrame):\n",
    "    \"\"\"\n",
    "    Get datetime values from the date fields from data frame\n",
    "    \"\"\"\n",
    "\n",
    "    def __init__(self, field):\n",
    "        super(OpConvertDate, self).__init__(op_name=\"OpConvertDate\")\n",
    "        self.field = field\n",
    "\n",
    "    def op(self, _df: pd.DataFrame):\n",
    "        _df[self.field] = pd.to_datetime(_df[self.field])\n",
    "        return _df\n",
    "\n",
    "\n",
    "class OpConvertBoolean(OpDataFrame):\n",
    "    \"\"\"\n",
    "    Convert columns `field` in dataframe `_df` into boolean value.\n",
    "    \"\"\"\n",
    "\n",
    "    def __init__(self, field, t_value='t'):\n",
    "        super(OpConvertBoolean, self).__init__(op_name=\"OpConvertBoolean\")\n",
    "        self.field = field\n",
    "        self.t_value = t_value\n",
    "\n",
    "    def op(self, _df: pd.DataFrame):\n",
    "        _df[self.field] = _df[self.field].astype(str) == self.t_value\n",
    "        return _df\n",
    "\n",
    "\n",
    "class OpConvertMoneyToFloat(OpDataFrame):\n",
    "    \"\"\"\n",
    "    Convert money with sign $ to float value\n",
    "    \"\"\"\n",
    "\n",
    "    def __init__(self, field):\n",
    "        super(OpConvertMoneyToFloat, self).__init__(op_name=\"OpConvertMoneyToFloat\")\n",
    "        self.field = field\n",
    "        # self.money_sign = money_sign\n",
    "\n",
    "    def op(self, _df: pd.DataFrame):\n",
    "        _df[self.field] = _df[self.field].replace('[\\$,]', '', regex=True).astype(float)\n",
    "        return _df\n",
    "\n",
    "\n",
    "class OpConvertToFloat(OpDataFrame):\n",
    "    \"\"\"\n",
    "    Convert value to float\n",
    "    \"\"\"\n",
    "\n",
    "    def __init__(self, field):\n",
    "        super(OpConvertToFloat, self).__init__(op_name=\"OpConvertToFloat\")\n",
    "        self.field = field\n",
    "\n",
    "    def op(self, _df: pd.DataFrame):\n",
    "        _df[self.field] = _df[self.field].astype(float)\n",
    "        return _df\n",
    "\n",
    "\n",
    "class OpConvertPercentToFloat(OpDataFrame):\n",
    "    \"\"\"\n",
    "    Convert percent values to float (Ex 80% = 0.8)\n",
    "    \"\"\"\n",
    "\n",
    "    def __init__(self, field):\n",
    "        super(OpConvertPercentToFloat, self).__init__(op_name=\"OpConvertPercentToFloat\")\n",
    "        self.field = field\n",
    "\n",
    "    def op(self, _df: pd.DataFrame):\n",
    "        _df[self.field] = _df[self.field].str.rstrip('%').astype('float') / 100.0\n",
    "        return _df\n",
    "\n",
    "\n",
    "class OpConvertToString(OpDataFrame):\n",
    "    def __init__(self, field):\n",
    "        super(OpConvertToString, self).__init__(op_name=\"OpConvertToString\")\n",
    "        self.field = field\n",
    "\n",
    "    def op(self, _df: pd.DataFrame):\n",
    "        _df[self.field] = _df[self.field].astype('string')\n",
    "        return _df\n",
    "\n",
    "\n",
    "class OpDropColumns(OpDataFrame):\n",
    "    def __init__(self, fields):\n",
    "        super(OpDropColumns, self).__init__(op_name=\"OpDropColumns\")\n",
    "        self.fields = fields\n",
    "\n",
    "    def op(self, _df: pd.DataFrame):\n",
    "\n",
    "        _column_deleting = list(set(self.fields) & set(_df.columns))\n",
    "        _df = _df.drop(labels=_column_deleting, axis=1)\n",
    "\n",
    "        return _df\n",
    "\n",
    "\n",
    "class OpDropColumnsWithUniqueValue(OpDataFrame):\n",
    "    def __init__(self):\n",
    "        super(OpDropColumnsWithUniqueValue, self).__init__(op_name=\"OpDropColumnWithUniqueValue\")\n",
    "\n",
    "    def op(self, _df: pd.DataFrame):\n",
    "        _df = _df.drop(labels=detect_columns_with_unique_values(_df), axis=1)\n",
    "\n",
    "        return _df\n",
    "\n",
    "\n",
    "class OpFieldMapping(OpDataFrame):\n",
    "    def __init__(self, field, dic_map):\n",
    "        super(OpFieldMapping, self).__init__(op_name=\"OpFieldMapping\")\n",
    "        self.field = field\n",
    "        self.dic_map = dic_map\n",
    "\n",
    "    def _map_func(self, field):\n",
    "        return self.dic_map[title(field)] if title(field) in self.dic_map else title(field)\n",
    "\n",
    "    def op(self, _df: pd.DataFrame):\n",
    "        _df[self.field] = _df[self.field].astype(str).apply(trim).apply(self._map_func)\n",
    "        return _df\n",
    "\n",
    "\n",
    "class CanSave(object):\n",
    "    def __init__(self, save_path):\n",
    "        self.save_path = save_path\n",
    "\n",
    "    def save(self, data):\n",
    "        if self.save_path:\n",
    "            with open(self.save_path, 'wb') as f:\n",
    "                pickle.dump(data, f, pickle.HIGHEST_PROTOCOL)\n",
    "\n",
    "class CanLoad(object):\n",
    "    def __init__(self, load_path):\n",
    "        self.load_path = load_path\n",
    "\n",
    "    def load(self):\n",
    "        if self.load_path:\n",
    "            with open(self.load_path, 'rb') as f:\n",
    "                return pickle.load(f)\n",
    "\n",
    "\n",
    "class CategoryDummy(object):\n",
    "    def __init__(self):\n",
    "        pass\n",
    "\n",
    "    def _get_index(self, labels, code_name):\n",
    "        def _get_nan_index():\n",
    "            for i, v in enumerate(labels):\n",
    "                if np.isnan(v):\n",
    "                    return i\n",
    "\n",
    "        if isinstance(code_name, (float, int)):\n",
    "            if np.isnan(code_name):\n",
    "                return _get_nan_index()\n",
    "\n",
    "        for i, v in enumerate(labels):\n",
    "            if v == code_name:\n",
    "                return i\n",
    "\n",
    "        return _get_nan_index()\n",
    "\n",
    "    def codes_labels(self, series: pd.Series):\n",
    "        codes, labels = factorize_from_iterable(series)\n",
    "\n",
    "        codes = codes.copy()\n",
    "        # Dummy na is default\n",
    "        codes[codes == -1] = len(labels)\n",
    "        levels = np.append(labels, np.nan)\n",
    "\n",
    "        return codes, levels\n",
    "\n",
    "    def _dummy(self, codes, labels, prefix=\"_\"):\n",
    "        dummy_cols = [f\"{prefix}{label}\" for label in labels]\n",
    "\n",
    "        dummy_mat = np.eye(len(labels), dtype=np.uint8).take(codes, axis=0)\n",
    "        dummy_mat[codes == -1] = 0\n",
    "\n",
    "        # drop_first:\n",
    "        dummy_mat = dummy_mat[:, 1:]\n",
    "        dummy_cols = dummy_cols[1:]\n",
    "        return pd.DataFrame(dummy_mat, columns=dummy_cols)\n",
    "\n",
    "    def dummy_by_specified_labels(self, labels, code_labels, prefix=\"_\"):\n",
    "        codes = [self._get_index(labels, name) for name in code_labels]\n",
    "        return self._dummy(codes, labels, prefix)\n",
    "\n",
    "    def dummy_by_all_codes(self, codes, labels, prefix=\"_\"):\n",
    "        return self._dummy(codes, labels, prefix)\n",
    "\n",
    "\n",
    "class OpSaveCategoryColumns(OpDataFrame, CanSave):\n",
    "    def __init__(self, cat_cols, save_path):\n",
    "        OpDataFrame.__init__(self, op_name=\"OpSaveCategoryColumns\")\n",
    "        CanSave.__init__(self, save_path=save_path)\n",
    "        self.cat_cols = cat_cols\n",
    "\n",
    "    def op(self, _df: pd.DataFrame):\n",
    "\n",
    "        dummier = CategoryDummy()\n",
    "        d = {}\n",
    "\n",
    "        for cat_col in self.cat_cols:\n",
    "           d[cat_col] = dummier.codes_labels(_df[cat_col])\n",
    "\n",
    "        self.save(d)\n",
    "\n",
    "        return _df\n",
    "\n",
    "class OpLoadCategoryColumns(OpDataFrame, CanLoad):\n",
    "    def __init__(self, cat_cols, load_path):\n",
    "        OpDataFrame.__init__(self, op_name=\"OpLoadCategoryColumns\")\n",
    "        CanLoad.__init__(self, load_path=load_path)\n",
    "\n",
    "        self.cat_cols = cat_cols\n",
    "\n",
    "    def op(self, _df: pd.DataFrame):\n",
    "\n",
    "        dummier = CategoryDummy()\n",
    "        d = self.load()\n",
    "\n",
    "        for cat_col in self.cat_cols:\n",
    "            _, labels = d[cat_col]\n",
    "\n",
    "            _df_col_cat = dummier.dummy_by_specified_labels(labels, _df[cat_col].values, prefix=f\"{cat_col}_\")\n",
    "            _df = pd.concat([_df.reset_index(drop=True), _df_col_cat.reset_index(drop=True)], axis=1)\n",
    "\n",
    "        return _df\n",
    "\n",
    "class OpGroupbyExpander(OpDataFrame):\n",
    "    def __init__(self, group_fields, funcs=['mean', 'max', 'min']):\n",
    "        super(OpGroupbyExpander, self).__init__(op_name=\"OpGroupbyExpander\")\n",
    "        self.group_fields = group_fields\n",
    "        # self.compute_field = compute_field\n",
    "        self.funcs = funcs\n",
    "\n",
    "    def op(self, _df: pd.DataFrame):\n",
    "        compute_fields = _df.select_dtypes(include=['float', 'int']).columns\n",
    "\n",
    "        for compute_field in compute_fields:\n",
    "            _g_df = _df.groupby(by=self.group_fields).agg(\n",
    "                {compute_field: self.funcs}\n",
    "            )\n",
    "\n",
    "            _df = pd.merge(_df, _g_df, on=self.group_fields)\n",
    "\n",
    "        return _df\n",
    "\n",
    "\n",
    "class OpFeatureComposedExpander(OpDataFrame):\n",
    "    def __init__(self):\n",
    "        super(OpFeatureComposedExpander, self).__init__(op_name=\"OpFeatureComposedExpander\")\n",
    "        # self.num_cols = num_cols\n",
    "\n",
    "    def op(self, _df: pd.DataFrame):\n",
    "\n",
    "        num_cols = _df.select_dtypes(include=['float', 'int', 'int64'])\n",
    "\n",
    "        for col_1 in num_cols:\n",
    "            for col_2 in num_cols:\n",
    "                _df[f\"{col_1}_and_{col_2}\"] = _df[col_1] * _df[col_2]\n",
    "\n",
    "        return _df\n",
    "\n",
    "\n",
    "class OpPipeLine(OpDataFrame):\n",
    "    \"\"\"\n",
    "    Create pipeline of operation on the dataframe\n",
    "    \"\"\"\n",
    "\n",
    "    def __init__(self, copy=True):\n",
    "        super(OpPipeLine, self).__init__(op_name=\"OpPipeLine\")\n",
    "        self.copy = copy\n",
    "        self.ops = []\n",
    "\n",
    "    def add_op(self, op):\n",
    "        self.ops.append(op)\n",
    "\n",
    "    def remove_op(self, removed_op_name):\n",
    "\n",
    "        self.ops = [x for x in self.ops if x.op_name != removed_op_name]\n",
    "\n",
    "    def replace_op(self, new_node_op):\n",
    "        for i, node_op in enumerate(self.ops):\n",
    "            if node_op.op_name == new_node_op.op_name and node_op.field == new_node_op.field:\n",
    "                self.ops[i] = new_node_op\n",
    "\n",
    "    def add_ops(self, ops):\n",
    "        self.ops.extend(ops)\n",
    "\n",
    "    def op(self, _df: pd.DataFrame):\n",
    "        if self.copy:\n",
    "            _df = _df.copy()\n",
    "\n",
    "        for node_op in self.ops:\n",
    "            try:\n",
    "                _df = node_op.op(_df)\n",
    "            except Exception as e:\n",
    "                if not node_op.ignore_if_failure:\n",
    "                    print(e)\n",
    "                    raise Exception(f\"Error when doing op: {node_op.get_info()}. Detail error: {e}\")\n",
    "                continue\n",
    "        return _df\n",
    "\n",
    "    def get_info(self):\n",
    "        return \" >> \".join([op.get_info() for op in self.ops])\n",
    "\n",
    "\n",
    "class OpMergeDataFrame(OpDataFrame):\n",
    "    \"\"\"\n",
    "    Merge 2 dataframes\n",
    "    \"\"\"\n",
    "\n",
    "    def __init__(self, _df_main, left_on, right_on, how='inner'):\n",
    "        super(OpMergeDataFrame, self).__init__(op_name=\"OpMergeDataFrame\")\n",
    "        self._df_main = _df_main\n",
    "        self.how = how\n",
    "        self.left_on = left_on\n",
    "        self.right_on = right_on\n",
    "\n",
    "    def op(self, _df: pd.DataFrame):\n",
    "        return pd.merge(self._df_main, _df, how=self.how, left_on=self.left_on, right_on=self.right_on)\n",
    "\n",
    "\n",
    "class OpAddMonthColumn(OpDataFrame):\n",
    "    def __init__(self, field, new_month_field=\"_month\"):\n",
    "        super(OpAddMonthColumn, self).__init__(op_name=\"OpAddMonthColumn\")\n",
    "        self.field = field\n",
    "        self.new_month_field = new_month_field\n",
    "\n",
    "    def op(self, _df: pd.DataFrame):\n",
    "        _df[self.new_month_field] = _df[self.field].dt.month\n",
    "        return _df\n",
    "\n",
    "\n",
    "class OpSaveMeanColumns(OpDataFrame, CanSave):\n",
    "    def __init__(self, save_path):\n",
    "        OpDataFrame.__init__(self, op_name=\"OpSaveMeanColumn\")\n",
    "        CanSave.__init__(self, save_path)\n",
    "\n",
    "\n",
    "    def op(self, _df: pd.DataFrame):\n",
    "        mean_cols = get_columns_numeric_with_na(_df)\n",
    "        d = {col: _df[col].mean() for col in mean_cols}\n",
    "        self.save(d)\n",
    "\n",
    "        return _df\n",
    "\n",
    "class OpLoadMeanColumns(OpDataFrame, CanLoad):\n",
    "    def __init__(self, load_path):\n",
    "        OpDataFrame.__init__(self, op_name=\"OpLoadMeanColumns\")\n",
    "        CanLoad.__init__(self, load_path)\n",
    "\n",
    "    def op(self, _df: pd.DataFrame):\n",
    "        d = self.load()\n",
    "\n",
    "        for col, col_mean in d.items():\n",
    "            _df[col] = _df[col].fillna(col_mean)\n",
    "\n",
    "        return _df\n",
    "\n",
    "\n",
    "\n",
    "# class OpFillMeanColumn(OpDataFrame):\n",
    "#     def __init__(self, field):\n",
    "#         super(OpFillMeanColumn, self).__init__(op_name=\"OpFillMeanColumn\")\n",
    "#         self.field = field\n",
    "#\n",
    "#     def op(self, _df: pd.DataFrame):\n",
    "#         _df[self.field] = _df[self.field].fillna(_df[self.field].mean())\n",
    "#         return _df\n",
    "\n",
    "\n",
    "class OpSelectNumericColumnOnly(OpDataFrame):\n",
    "    def __init__(self):\n",
    "        super(OpSelectNumericColumnOnly, self).__init__(op_name=\"OpSelectNumericColumnOnly\")\n",
    "\n",
    "    def op(self, _df: pd.DataFrame):\n",
    "        choose_cols = ['float', 'int', 'int64', 'bool', 'uint8']\n",
    "        return _df.select_dtypes(include=choose_cols)\n",
    "\n",
    "\n",
    "def detect_columns_with_unique_values(_df):\n",
    "    \"\"\"\n",
    "    Get the columns with unique values.\n",
    "    :param _df: Give dataframe\n",
    "    :return: List of column name containing unique value\n",
    "    \"\"\"\n",
    "    return [col for col in _df.columns if len(_df[col].unique()) == 1]\n",
    "\n",
    "\n",
    "def trim(s):\n",
    "    \"\"\"\n",
    "    Trim left and right string `s`\n",
    "    :param s: Given string\n",
    "    :return: Trimmed string\n",
    "    \"\"\"\n",
    "    return s.strip()\n",
    "\n",
    "\n",
    "def title(s):\n",
    "    \"\"\"\n",
    "    Upper case of the first letter in words\n",
    "    :param s: Given string\n",
    "    :return: Titled string\n",
    "    \"\"\"\n",
    "    return s.title()\n",
    "\n",
    "\n",
    "def get_columns_numeric_with_na(_df):\n",
    "    \"\"\"\n",
    "    Get columns with numeric having na values\n",
    "    :param _df: Given dataframe\n",
    "    :return: List of columns\n",
    "    \"\"\"\n",
    "    columns_with_na = set([col for col in _df.columns if any(_df[col].isna())])\n",
    "    columns_with_numeric = set(_df.select_dtypes(include=['float', 'int', 'int64']).columns)\n",
    "\n",
    "    return list(columns_with_na & columns_with_numeric)\n",
    "\n",
    "\n",
    "pipeline_cal = OpPipeLine(copy=False)\n",
    "\n",
    "pipeline_cal.add_op(OpConvertDate('date'))\n",
    "pipeline_cal.add_op(OpConvertBoolean('available'))\n",
    "pipeline_cal.add_op(OpConvertMoneyToFloat('price'))\n",
    "\n",
    "df_cal = pipeline_cal.op(df_cal)\n",
    "\n",
    "print(df_cal.dtypes)\n"
   ],
   "metadata": {
    "collapsed": false,
    "pycharm": {
     "name": "#%%\n"
    }
   }
  },
  {
   "cell_type": "code",
   "execution_count": 4,
   "outputs": [
    {
     "data": {
      "text/plain": "Boston               3392\nRoxbury Crossing       28\nJamaica Plain          25\nSomerville             19\nBrookline              18\nDorchester             16\nBrighton               16\nCambridge              16\nCharlestown            16\nAllston                14\nRoslindale              7\nWest Roxbury            5\nMattapan                3\nHyde Park               2\nSouth Boston            2\nNan                     2\nNewton                  1\nMilton                  1\nWatertown               1\nJamaica Plain, Ma       1\nName: city, dtype: int64"
     },
     "metadata": {},
     "output_type": "display_data"
    }
   ],
   "source": [
    "pipeline_listing = OpPipeLine(copy=True)\n",
    "\n",
    "pipeline_listing.add_ops(\n",
    "    [OpConvertToString(col) for col in\n",
    "     [\"listing_url\", \"name\", \"summary\", \"space\", \"description\", \"neighborhood_overview\",\n",
    "      \"notes\", \"transit\", \"access\", \"interaction\", \"house_rules\", \"thumbnail_url\",\n",
    "      \"medium_url\", \"picture_url\", \"xl_picture_url\", \"host_url\", \"host_about\",\n",
    "      \"host_thumbnail_url\", \"host_picture_url\", \"street\"]])\n",
    "\n",
    "pipeline_listing.add_ops(\n",
    "    [OpConvertBoolean(col) for col in [\"host_is_superhost\", \"host_has_profile_pic\", \"host_identity_verified\",\n",
    "                                       \"requires_license\", \"instant_bookable\", \"require_guest_profile_picture\",\n",
    "                                       \"require_guest_phone_verification\"]])\n",
    "\n",
    "pipeline_listing.add_ops(\n",
    "    [OpConvertMoneyToFloat(col) for col in\n",
    "     [\"price\", \"weekly_price\", \"monthly_price\", \"security_deposit\", \"cleaning_fee\",\n",
    "      \"extra_people\"]])\n",
    "\n",
    "pipeline_listing.add_ops(\n",
    "    [OpConvertDate(col) for col in [\"last_scraped\", \"host_since\", \"calendar_last_scraped\", \"first_review\",\n",
    "                                    \"last_review\"]])\n",
    "\n",
    "pipeline_listing.add_ops(\n",
    "    [OpConvertPercentToFloat(col) for col in [\"host_response_rate\", \"host_acceptance_rate\"]])\n",
    "\n",
    "pipeline_listing.add_op(OpFieldMapping(field='city',\n",
    "                                       dic_map={\n",
    "                                           \"Boston (Charlestown)\": \"Charlestown\",\n",
    "                                           \"Jamaica Plain (Boston)\": \"Jamaica Plain\",\n",
    "                                           \"Jamaica Plain, Boston\": \"Jamaica Plain\",\n",
    "                                           \"Jamaica plain\": \"Jamaica Plain\",\n",
    "                                           \"Jamaica Plain, MA\": \"Jamaica Plain\",\n",
    "                                           \"Boston (Jamaica Plain)\": \"Jamaica Plain\",\n",
    "                                           \"Boston, Massachusetts, Us\": \"Boston\",\n",
    "                                           \"East Boston\": \"Boston\",\n",
    "                                           \"Dorchester, Boston\": \"Dorchester\",\n",
    "                                           \"Roslindale, Boston\": \"Roslindale\",\n",
    "                                           \"波士顿\": \"Boston\",\n",
    "                                           \"South End, Boston\": \"Boston\",\n",
    "                                           \"Mission Hill, Boston\": \"Boston\"\n",
    "                                       }\n",
    "                                       ))\n",
    "\n",
    "# pipeline_listing.add_op(OpDropColumns(fields=detect_columns_with_unique_values(df_listing)))\n",
    "\n",
    "df_listing_cleaned = pipeline_listing.op(df_listing)\n",
    "\n",
    "display(df_listing_cleaned['city'].value_counts())\n"
   ],
   "metadata": {
    "collapsed": false,
    "pycharm": {
     "name": "#%%\n"
    }
   }
  },
  {
   "cell_type": "code",
   "execution_count": 5,
   "outputs": [
    {
     "name": "stdout",
     "output_type": "stream",
     "text": [
      "         listing_id       date  available  price_x        id  \\\n",
      "0          12147973 2017-09-05      False      NaN  12147973   \n",
      "1          12147973 2017-09-04      False      NaN  12147973   \n",
      "2          12147973 2017-09-03      False      NaN  12147973   \n",
      "3          12147973 2017-09-02      False      NaN  12147973   \n",
      "4          12147973 2017-09-01      False      NaN  12147973   \n",
      "...             ...        ...        ...      ...       ...   \n",
      "1308885    14504422 2016-09-10      False      NaN  14504422   \n",
      "1308886    14504422 2016-09-09      False      NaN  14504422   \n",
      "1308887    14504422 2016-09-08      False      NaN  14504422   \n",
      "1308888    14504422 2016-09-07      False      NaN  14504422   \n",
      "1308889    14504422 2016-09-06      False      NaN  14504422   \n",
      "\n",
      "                                   listing_url       scrape_id last_scraped  \\\n",
      "0        https://www.airbnb.com/rooms/12147973  20160906204935   2016-09-07   \n",
      "1        https://www.airbnb.com/rooms/12147973  20160906204935   2016-09-07   \n",
      "2        https://www.airbnb.com/rooms/12147973  20160906204935   2016-09-07   \n",
      "3        https://www.airbnb.com/rooms/12147973  20160906204935   2016-09-07   \n",
      "4        https://www.airbnb.com/rooms/12147973  20160906204935   2016-09-07   \n",
      "...                                        ...             ...          ...   \n",
      "1308885  https://www.airbnb.com/rooms/14504422  20160906204935   2016-09-07   \n",
      "1308886  https://www.airbnb.com/rooms/14504422  20160906204935   2016-09-07   \n",
      "1308887  https://www.airbnb.com/rooms/14504422  20160906204935   2016-09-07   \n",
      "1308888  https://www.airbnb.com/rooms/14504422  20160906204935   2016-09-07   \n",
      "1308889  https://www.airbnb.com/rooms/14504422  20160906204935   2016-09-07   \n",
      "\n",
      "                                       name  \\\n",
      "0                Sunny Bungalow in the City   \n",
      "1                Sunny Bungalow in the City   \n",
      "2                Sunny Bungalow in the City   \n",
      "3                Sunny Bungalow in the City   \n",
      "4                Sunny Bungalow in the City   \n",
      "...                                     ...   \n",
      "1308885  (K1) Private Room near Harvard/MIT   \n",
      "1308886  (K1) Private Room near Harvard/MIT   \n",
      "1308887  (K1) Private Room near Harvard/MIT   \n",
      "1308888  (K1) Private Room near Harvard/MIT   \n",
      "1308889  (K1) Private Room near Harvard/MIT   \n",
      "\n",
      "                                                   summary  ...  \\\n",
      "0        Cozy, sunny, family home.  Master bedroom high...  ...   \n",
      "1        Cozy, sunny, family home.  Master bedroom high...  ...   \n",
      "2        Cozy, sunny, family home.  Master bedroom high...  ...   \n",
      "3        Cozy, sunny, family home.  Master bedroom high...  ...   \n",
      "4        Cozy, sunny, family home.  Master bedroom high...  ...   \n",
      "...                                                    ...  ...   \n",
      "1308885  My place is close to My home is a warm and fri...  ...   \n",
      "1308886  My place is close to My home is a warm and fri...  ...   \n",
      "1308887  My place is close to My home is a warm and fri...  ...   \n",
      "1308888  My place is close to My home is a warm and fri...  ...   \n",
      "1308889  My place is close to My home is a warm and fri...  ...   \n",
      "\n",
      "        requires_license license jurisdiction_names instant_bookable  \\\n",
      "0                  False     NaN                NaN            False   \n",
      "1                  False     NaN                NaN            False   \n",
      "2                  False     NaN                NaN            False   \n",
      "3                  False     NaN                NaN            False   \n",
      "4                  False     NaN                NaN            False   \n",
      "...                  ...     ...                ...              ...   \n",
      "1308885            False     NaN                NaN             True   \n",
      "1308886            False     NaN                NaN             True   \n",
      "1308887            False     NaN                NaN             True   \n",
      "1308888            False     NaN                NaN             True   \n",
      "1308889            False     NaN                NaN             True   \n",
      "\n",
      "        cancellation_policy require_guest_profile_picture  \\\n",
      "0                  moderate                         False   \n",
      "1                  moderate                         False   \n",
      "2                  moderate                         False   \n",
      "3                  moderate                         False   \n",
      "4                  moderate                         False   \n",
      "...                     ...                           ...   \n",
      "1308885            flexible                         False   \n",
      "1308886            flexible                         False   \n",
      "1308887            flexible                         False   \n",
      "1308888            flexible                         False   \n",
      "1308889            flexible                         False   \n",
      "\n",
      "        require_guest_phone_verification calculated_host_listings_count  \\\n",
      "0                                  False                              1   \n",
      "1                                  False                              1   \n",
      "2                                  False                              1   \n",
      "3                                  False                              1   \n",
      "4                                  False                              1   \n",
      "...                                  ...                            ...   \n",
      "1308885                            False                              3   \n",
      "1308886                            False                              3   \n",
      "1308887                            False                              3   \n",
      "1308888                            False                              3   \n",
      "1308889                            False                              3   \n",
      "\n",
      "        reviews_per_month _month  \n",
      "0                     NaN      9  \n",
      "1                     NaN      9  \n",
      "2                     NaN      9  \n",
      "3                     NaN      9  \n",
      "4                     NaN      9  \n",
      "...                   ...    ...  \n",
      "1308885               NaN      9  \n",
      "1308886               NaN      9  \n",
      "1308887               NaN      9  \n",
      "1308888               NaN      9  \n",
      "1308889               NaN      9  \n",
      "\n",
      "[1308890 rows x 100 columns]\n"
     ]
    }
   ],
   "source": [
    "\n",
    "\n",
    "pipeline_cal_listing = OpPipeLine()\n",
    "\n",
    "pipeline_cal_listing.add_op(OpMergeDataFrame(df_cal, left_on=['listing_id'], right_on=['id'], how='inner'))\n",
    "\n",
    "\n",
    "pipeline_cal_listing.add_op(OpAddMonthColumn(field='date', new_month_field=\"_month\"))\n",
    "\n",
    "df_cal_listing = pipeline_cal_listing.op(df_listing_cleaned)\n",
    "\n",
    "print(df_cal_listing)\n"
   ],
   "metadata": {
    "collapsed": false,
    "pycharm": {
     "name": "#%%\n"
    }
   }
  },
  {
   "cell_type": "code",
   "execution_count": 5,
   "outputs": [],
   "source": [],
   "metadata": {
    "collapsed": false,
    "pycharm": {
     "name": "#%%\n"
    }
   }
  },
  {
   "cell_type": "code",
   "execution_count": 6,
   "outputs": [
    {
     "data": {
      "text/plain": "<Figure size 1080x504 with 1 Axes>",
      "image/png": "[encoded data removed]"
     },
     "metadata": {
      "needs_background": "light"
     },
     "output_type": "display_data"
    }
   ],
   "source": [
    "import matplotlib.pyplot as plt\n",
    "\n",
    "\n",
    "def chart_price_by_city_and_month():\n",
    "    \"\"\"\n",
    "    Draw a chart to visualize price and city by month\n",
    "    :return: None\n",
    "    \"\"\"\n",
    "    fig, ax = plt.subplots(figsize=(15, 7))\n",
    "    plt.title(\"Mean price by City and Month\")\n",
    "    g_city_and_month = df_cal_listing.groupby(['city', '_month'])['price_x'].mean()\n",
    "    g_city_and_month.unstack().plot(legend=True, kind='bar', ax=ax)\n",
    "\n",
    "    plt.savefig('chart_price_by_city_and_month.png', dpi=100, bbox_inches='tight')\n",
    "\n",
    "\n",
    "chart_price_by_city_and_month()\n",
    "\n",
    "\n"
   ],
   "metadata": {
    "collapsed": false,
    "pycharm": {
     "name": "#%%\n"
    }
   }
  },
  {
   "cell_type": "code",
   "execution_count": 7,
   "outputs": [
    {
     "data": {
      "text/plain": "<Figure size 720x576 with 2 Axes>",
      "image/png": "[encoded data removed]"
     },
     "metadata": {
      "needs_background": "light"
     },
     "output_type": "display_data"
    }
   ],
   "source": [
    "import seaborn as sns\n",
    "\n",
    "\n",
    "def visualize_coeffs():\n",
    "    \"\"\"\n",
    "    Visualize coeffs from numeric_df_listing data\n",
    "    :return:\n",
    "    \"\"\"\n",
    "    plt_1 = plt.figure(figsize=(10, 8))\n",
    "    ignore_columns = ['id', 'host_id', 'latitude', 'longitude']\n",
    "    numeric_df_listing = df_listing_cleaned.select_dtypes(include=['float', 'int', 'int64']).drop(labels=ignore_columns,\n",
    "                                                                                                  axis=1)\n",
    "\n",
    "    sns.heatmap(numeric_df_listing.corr(), xticklabels=True, yticklabels=True)\n",
    "    plt.savefig('./images/headmap_cleaned_df_2.png', dpi=1000)\n",
    "\n",
    "\n",
    "visualize_coeffs()\n",
    "\n",
    "\n",
    "\n"
   ],
   "metadata": {
    "collapsed": false,
    "pycharm": {
     "name": "#%%\n"
    }
   }
  },
  {
   "cell_type": "code",
   "execution_count": 8,
   "outputs": [],
   "source": [
    "mean_path = './train/mean_col.txt'\n",
    "\n",
    "pipeline_listing.add_op(OpSaveMeanColumns(mean_path))\n",
    "\n",
    "pipeline_listing.add_op(OpLoadMeanColumns(mean_path))\n",
    "\n",
    "\n",
    "# Try to training with the model with current number of features\n",
    "# pipeline_listing.add_op(OpSelectNumericColumnOnly())\n",
    "\n",
    "pipeline_listing.add_op(OpDropColumns(\n",
    "    fields=['id', 'host_id', 'scrape_id', 'last_scraped', 'experiences_offered', 'neighbourhood_group_cleansed',\n",
    "            'state', 'country_code', 'country', 'has_availability', 'calendar_last_scraped', 'requires_license',\n",
    "            'license', 'jurisdiction_names']))\n",
    "\n",
    "\n",
    "\n",
    "\n",
    "# pipeline_listing.add_op(OpDropColumnsWithUniqueValue())\n",
    "\n",
    "df_listing_cleaned = pipeline_listing.op(df_listing)\n",
    "\n",
    "df_listing_cleaned = OpSelectNumericColumnOnly().op(df_listing_cleaned)\n",
    "\n",
    "\n",
    "\n",
    "\n",
    "pipeline_listing_base = copy.deepcopy(pipeline_listing)\n"
   ],
   "metadata": {
    "collapsed": false,
    "pycharm": {
     "name": "#%%\n"
    }
   }
  },
  {
   "cell_type": "code",
   "execution_count": 8,
   "outputs": [],
   "source": [],
   "metadata": {
    "collapsed": false,
    "pycharm": {
     "name": "#%%\n"
    }
   }
  },
  {
   "cell_type": "code",
   "execution_count": 9,
   "outputs": [],
   "source": [
    "from sklearn.model_selection import train_test_split\n",
    "\n",
    "\n",
    "class DataManager(object):\n",
    "    \"\"\"\n",
    "    Split dataset into 2 sets (training/test set)\n",
    "    \"\"\"\n",
    "\n",
    "    def __init__(self, _df, test_size=0.2, shuffle=True):\n",
    "        self._df = _df\n",
    "        self.test_size = test_size\n",
    "        self.shuffle = shuffle\n",
    "\n",
    "        self.na_funcs = []\n",
    "\n",
    "    def split_data(self, response_col):\n",
    "        self._df = self._df.dropna(subset=[response_col], axis=0)\n",
    "\n",
    "        if self.shuffle:\n",
    "            self._df = self._df.sample(frac=1)\n",
    "\n",
    "        X = self._df.drop(response_col, axis=1)\n",
    "        y = self._df[response_col]\n",
    "        _X_train, _X_test, _y_train, _y_test = train_test_split(X, y, test_size=self.test_size, random_state=37)\n",
    "\n",
    "        return _X_train, _X_test, _y_train, _y_test\n",
    "\n",
    "\n",
    "data_manager = DataManager(df_listing_cleaned, test_size=0.2, shuffle=True)\n",
    "X_train, X_test, y_train, y_test = data_manager.split_data(response_col='price')"
   ],
   "metadata": {
    "collapsed": false,
    "pycharm": {
     "name": "#%%\n"
    }
   }
  },
  {
   "cell_type": "code",
   "execution_count": null,
   "outputs": [],
   "source": [
    "# test_2 = [col for col in df_listing_cleaned.columns if any(df_listing_cleaned[col].isna())]\n",
    "#\n",
    "# print(test_2)\n",
    "#\n",
    "# for t in test_2:\n",
    "#     print(df_listing_cleaned[t].value_counts())\n",
    "#\n",
    "#\n",
    "# print(pipeline_listing.get_info())"
   ],
   "metadata": {
    "collapsed": false,
    "pycharm": {
     "name": "#%%\n"
    }
   }
  },
  {
   "cell_type": "code",
   "execution_count": 10,
   "outputs": [
    {
     "name": "stdout",
     "output_type": "stream",
     "text": [
      "0.40105932690613255 0.20740774339157253\n"
     ]
    },
    {
     "data": {
      "text/plain": "         0           1         2           3           4          5    \\\n0  234.35239  300.328581  40.38177  150.956991  100.343083  200.98584   \n1  299.00000  349.000000  40.00000  247.000000   90.000000  200.00000   \n\n         6           7           8           9    ...         707        708  \\\n0  224.65745  225.927151  151.243804  115.510266  ...  145.867997  144.76303   \n1   70.00000  179.000000  269.000000  150.000000  ...  100.000000   62.00000   \n\n          709        710        711        712         713         714  \\\n0  134.602101  97.658395  79.358044  75.102447  315.776365   99.302942   \n1  110.000000  79.000000  94.000000  70.000000  500.000000  100.000000   \n\n          715         716  \n0   85.273689  175.570264  \n1  100.000000  143.000000  \n\n[2 rows x 717 columns]",
      "text/html": "<div>\n<style scoped>\n    .dataframe tbody tr th:only-of-type {\n        vertical-align: middle;\n    }\n\n    .dataframe tbody tr th {\n        vertical-align: top;\n    }\n\n    .dataframe thead th {\n        text-align: right;\n    }\n</style>\n<table border=\"1\" class=\"dataframe\">\n  <thead>\n    <tr style=\"text-align: right;\">\n      <th></th>\n      <th>0</th>\n      <th>1</th>\n      <th>2</th>\n      <th>3</th>\n      <th>4</th>\n      <th>5</th>\n      <th>6</th>\n      <th>7</th>\n      <th>8</th>\n      <th>9</th>\n      <th>...</th>\n      <th>707</th>\n      <th>708</th>\n      <th>709</th>\n      <th>710</th>\n      <th>711</th>\n      <th>712</th>\n      <th>713</th>\n      <th>714</th>\n      <th>715</th>\n      <th>716</th>\n    </tr>\n  </thead>\n  <tbody>\n    <tr>\n      <th>0</th>\n      <td>234.35239</td>\n      <td>300.328581</td>\n      <td>40.38177</td>\n      <td>150.956991</td>\n      <td>100.343083</td>\n      <td>200.98584</td>\n      <td>224.65745</td>\n      <td>225.927151</td>\n      <td>151.243804</td>\n      <td>115.510266</td>\n      <td>...</td>\n      <td>145.867997</td>\n      <td>144.76303</td>\n      <td>134.602101</td>\n      <td>97.658395</td>\n      <td>79.358044</td>\n      <td>75.102447</td>\n      <td>315.776365</td>\n      <td>99.302942</td>\n      <td>85.273689</td>\n      <td>175.570264</td>\n    </tr>\n    <tr>\n      <th>1</th>\n      <td>299.00000</td>\n      <td>349.000000</td>\n      <td>40.00000</td>\n      <td>247.000000</td>\n      <td>90.000000</td>\n      <td>200.00000</td>\n      <td>70.00000</td>\n      <td>179.000000</td>\n      <td>269.000000</td>\n      <td>150.000000</td>\n      <td>...</td>\n      <td>100.000000</td>\n      <td>62.00000</td>\n      <td>110.000000</td>\n      <td>79.000000</td>\n      <td>94.000000</td>\n      <td>70.000000</td>\n      <td>500.000000</td>\n      <td>100.000000</td>\n      <td>100.000000</td>\n      <td>143.000000</td>\n    </tr>\n  </tbody>\n</table>\n<p>2 rows × 717 columns</p>\n</div>"
     },
     "metadata": {},
     "output_type": "display_data"
    }
   ],
   "source": [
    "from sklearn.linear_model import LinearRegression\n",
    "from sklearn.metrics import r2_score\n",
    "\n",
    "\n",
    "def build_linear_regression_model():\n",
    "    \"\"\"\n",
    "    Create a linear regression model object.\n",
    "    :return:\n",
    "    \"\"\"\n",
    "    return LinearRegression(normalize=True)\n",
    "\n",
    "\n",
    "def train_model(model, X_train, y_train):\n",
    "    \"\"\"\n",
    "    Training model with training set\n",
    "    \"\"\"\n",
    "    model.fit(X_train, y_train)\n",
    "    return model\n",
    "\n",
    "\n",
    "def evaluate_model(model, X, y):\n",
    "    \"\"\"\n",
    "    Evaluate the model with test set (X, y).\n",
    "    :param model: Given model\n",
    "    :param X: X input\n",
    "    :param y: y label (true value)\n",
    "    :return: r2_score\n",
    "    \"\"\"\n",
    "    y_hat = model.predict(X)\n",
    "    return r2_score(y, y_hat)\n",
    "\n",
    "\n",
    "model = build_linear_regression_model()\n",
    "model = train_model(model, X_train, y_train)\n",
    "\n",
    "print(evaluate_model(model, X_train, y_train), evaluate_model(model, X_test, y_test))\n",
    "\n",
    "\n",
    "def display_predict(X_test, y_test):\n",
    "    y_hat = model.predict(X_test)\n",
    "    display(pd.DataFrame(np.array([y_hat, y_test])))\n",
    "\n",
    "\n",
    "display_predict(X_test, y_test)\n"
   ],
   "metadata": {
    "collapsed": false,
    "pycharm": {
     "name": "#%%\n"
    }
   }
  },
  {
   "cell_type": "code",
   "execution_count": 11,
   "outputs": [
    {
     "name": "stderr",
     "output_type": "stream",
     "text": [
      "c:\\users\\haiht\\appdata\\local\\programs\\python\\python37\\lib\\site-packages\\pandas\\core\\reshape\\merge.py:648: UserWarning: merging between different levels can give an unintended result (1 levels on the left,2 on the right)\n",
      "  warnings.warn(msg, UserWarning)\n"
     ]
    }
   ],
   "source": [
    "\n",
    "\n",
    "# We do the same pipeline as above.\n",
    "pipeline_listing_expander = copy.deepcopy(pipeline_listing_base)\n",
    "\n",
    "\n",
    "cat_path = './train/cat_present.txt'\n",
    "cat_cols = ['city', 'bed_type', 'cancellation_policy']\n",
    "\n",
    "pipeline_listing_expander.add_op(OpSaveCategoryColumns(cat_cols=cat_cols, save_path=cat_path))\n",
    "\n",
    "pipeline_listing_expander.add_op(OpLoadCategoryColumns(cat_cols=cat_cols, load_path=cat_path))\n",
    "\n",
    "pipeline_listing_expander.add_op(OpGroupbyExpander(group_fields='city'))\n",
    "\n",
    "pipeline_listing_expander.add_op(OpFeatureComposedExpander())\n",
    "\n",
    "# pipeline_listing_expander.add_op(OpSelectNumericColumnOnly())\n",
    "\n",
    "df_listing_cleaned_expanded = pipeline_listing_expander.op(df_listing)\n",
    "df_listing_cleaned_expanded = OpSelectNumericColumnOnly().op(df_listing_cleaned_expanded)\n"
   ],
   "metadata": {
    "collapsed": false,
    "pycharm": {
     "name": "#%%\n"
    }
   }
  },
  {
   "cell_type": "code",
   "execution_count": 12,
   "outputs": [
    {
     "name": "stdout",
     "output_type": "stream",
     "text": [
      "1.0 0.9996532313456123\n"
     ]
    }
   ],
   "source": [
    "data_manager = DataManager(df_listing_cleaned_expanded, test_size=0.2, shuffle=True)\n",
    "X_train, X_test, y_train, y_test = data_manager.split_data(response_col='price')\n",
    "\n",
    "model = build_linear_regression_model()\n",
    "model = train_model(model, X_train, y_train)\n",
    "\n",
    "print(evaluate_model(model, X_train, y_train), evaluate_model(model, X_test, y_test))\n"
   ],
   "metadata": {
    "collapsed": false,
    "pycharm": {
     "name": "#%%\n"
    }
   }
  },
  {
   "cell_type": "code",
   "execution_count": null,
   "outputs": [],
   "source": [],
   "metadata": {
    "collapsed": false,
    "pycharm": {
     "name": "#%%\n"
    }
   }
  },
  {
   "cell_type": "code",
   "execution_count": 13,
   "outputs": [
    {
     "name": "stderr",
     "output_type": "stream",
     "text": [
      "c:\\users\\haiht\\appdata\\local\\programs\\python\\python37\\lib\\site-packages\\pandas\\core\\reshape\\merge.py:648: UserWarning: merging between different levels can give an unintended result (1 levels on the left,2 on the right)\n",
      "  warnings.warn(msg, UserWarning)\n"
     ]
    },
    {
     "name": "stdout",
     "output_type": "stream",
     "text": [
      "[68.84220163]\n"
     ]
    }
   ],
   "source": [
    "our_house_request = df_listing[df_listing['city'] == 'West Roxbury'].head(1)\n",
    "our_house_request['accommodates'] = 10\n",
    "\n",
    "pipeline_listing_expander_predictor = copy.deepcopy(pipeline_listing_expander)\n",
    "pipeline_listing_expander_predictor.remove_op('OpSaveMeanColumn')\n",
    "pipeline_listing_expander_predictor.remove_op('OpSaveCategoryColumns')\n",
    "\n",
    "\n",
    "our_house_request_data = pipeline_listing_expander_predictor.op(our_house_request)\n",
    "our_house_request_data = OpSelectNumericColumnOnly().op(our_house_request_data)\n",
    "\n",
    "our_house_request_data = our_house_request_data.drop(labels='price', axis=1)\n",
    "\n",
    "print(model.predict(our_house_request_data))"
   ],
   "metadata": {
    "collapsed": false,
    "pycharm": {
     "name": "#%%\n"
    }
   }
  },
  {
   "cell_type": "code",
   "execution_count": null,
   "outputs": [],
   "source": [
    "print(\"\\n\".join([op.op_name for op in pipeline_listing_expander.ops]))"
   ],
   "metadata": {
    "collapsed": false,
    "pycharm": {
     "name": "#%%\n"
    }
   }
  },
  {
   "cell_type": "code",
   "execution_count": null,
   "outputs": [],
   "source": [],
   "metadata": {
    "collapsed": false,
    "pycharm": {
     "name": "#%%\n"
    }
   }
  }
 ],
 "metadata": {
  "kernelspec": {
   "display_name": "Python 3",
   "language": "python",
   "name": "python3"
  },
  "language_info": {
   "codemirror_mode": {
    "name": "ipython",
    "version": 2
   },
   "file_extension": ".py",
   "mimetype": "text/x-python",
   "name": "python",
   "nbconvert_exporter": "python",
   "pygments_lexer": "ipython2",
   "version": "2.7.6"
  }
 },
 "nbformat": 4,
 "nbformat_minor": 0
}